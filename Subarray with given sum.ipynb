{
 "cells": [
  {
   "cell_type": "markdown",
   "metadata": {},
   "source": [
    "<h2>Question"
   ]
  },
  {
   "cell_type": "markdown",
   "metadata": {},
   "source": [
    "Given an unsorted array A of size N of non-negative integers, find a continuous sub-array which adds to a given number S."
   ]
  },
  {
   "cell_type": "markdown",
   "metadata": {},
   "source": [
    "Input:\n",
    "Each test case consists of two lines. The first line of each test case is N and S, where N is the size of array and S is the sum. The second line of each test case contains N space separated integers denoting the array elements.\n",
    "\n",
    "Output:\n",
    "For each testcase, in a new line, print the starting and ending positions(1 indexing) of first such occuring subarray from the left if sum equals to subarray, else print -1."
   ]
  },
  {
   "cell_type": "markdown",
   "metadata": {},
   "source": [
    "Example:\n",
    "\n",
    "Input:\n",
    "\n",
    "5 12 \n",
    "\n",
    "1 2 3 7 5 \n",
    "\n",
    "Output:\n",
    "\n",
    "2 4 "
   ]
  },
  {
   "cell_type": "code",
   "execution_count": 1,
   "metadata": {},
   "outputs": [
    {
     "name": "stdout",
     "output_type": "stream",
     "text": [
      "5 12\n",
      "1 2 3 7 5\n",
      "2 4\n"
     ]
    }
   ],
   "source": [
    "#code\n",
    "def sumof(arr,n,sum):\n",
    "    curr_sum = 0 \n",
    "    start = 0\n",
    "    i = 0\n",
    "    while i <= n: \n",
    "       \n",
    "        while curr_sum > sum and start < i-1: \n",
    "          \n",
    "            curr_sum = curr_sum - arr[start] # curr_sum -= arr[start]\n",
    "            start += 1\n",
    "              \n",
    "        if curr_sum == sum: \n",
    "            print (\"%d %d\"%(start+1, i)) \n",
    "            return\n",
    "  \n",
    "        if i < n: \n",
    "            curr_sum = curr_sum + arr[i] # curr_sum += arr[i]\n",
    "        i += 1\n",
    "    print('-1')\n",
    "            \n",
    "\n",
    "n = input()\n",
    "n = n.split()\n",
    "k = int(n[1])\n",
    "elements = list(map(int,input().split()))\n",
    "n = len(elements) #int(n[0])\n",
    "sumof(elements,n,k)"
   ]
  },
  {
   "cell_type": "markdown",
   "metadata": {},
   "source": [
    "Easy 2 marks"
   ]
  }
 ],
 "metadata": {
  "kernelspec": {
   "display_name": "Python 3",
   "language": "python",
   "name": "python3"
  },
  "language_info": {
   "codemirror_mode": {
    "name": "ipython",
    "version": 3
   },
   "file_extension": ".py",
   "mimetype": "text/x-python",
   "name": "python",
   "nbconvert_exporter": "python",
   "pygments_lexer": "ipython3",
   "version": "3.7.6"
  }
 },
 "nbformat": 4,
 "nbformat_minor": 4
}
